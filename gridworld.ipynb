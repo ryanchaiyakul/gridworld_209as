{
 "cells": [
  {
   "cell_type": "code",
   "execution_count": null,
   "id": "b6729839",
   "metadata": {},
   "outputs": [],
   "source": [
    "from __future__ import annotations\n",
    "import enum\n",
    "import random\n",
    "import numpy as np\n",
    "\n",
    "class Action(enum.Enum):\n",
    "    UP = 0\n",
    "    DOWN = 1\n",
    "    LEFT = 2\n",
    "    RIGHT = 3\n",
    "    STAY = 4\n",
    "\n",
    "    def get_alternate(self) -> list[Action]:\n",
    "        if self == Action.UP:\n",
    "            return [Action.DOWN, Action.LEFT, Action.RIGHT, Action.STAY]\n",
    "        if self == Action.DOWN:\n",
    "            return [Action.UP, Action.LEFT, Action.RIGHT, Action.STAY]\n",
    "        if self == Action.LEFT:\n",
    "            return [Action.DOWN, Action.UP, Action.RIGHT, Action.STAY]\n",
    "        if self == Action.RIGHT:\n",
    "            return [Action.DOWN, Action.UP, Action.LEFT, Action.STAY]\n",
    "        if self == Action.STAY:\n",
    "            return [Action.DOWN, Action.UP, Action.RIGHT, Action.LEFT]\n",
    "        return []\n",
    "\n",
    "class Gridworld:\n",
    "    \n",
    "    def __init__(self, N: int, obstacles: np.ndarray = np.empty((0,2)), roads: np.ndarray = np.empty((0,2)), stores: np.ndarray) -> None:\n",
    "        self.map = np.zeros((N, N))\n",
    "        assert len(obstacles.shape) == 2 and obstacles.shape[1] == 2\n",
    "        assert len(roads.shape) == 2 and roads.shape[1] == 2\n",
    "        assert len(stores.shape) == 2 and stores.shape[1] == 2\n",
    "\n",
    "    def add_entity(locations: np.ndarray, value: int) -> None:\n",
    "        for l in locations:\n",
    "            self.map[l] = value\n",
    "\n",
    "def get_transition_probability(a: Action, s: Gridworld, s_prime: Gridworld, p_e: float) -> float:\n",
    "    pass\n"
   ]
  },
  {
   "cell_type": "code",
   "execution_count": null,
   "id": "6ac63bf7",
   "metadata": {},
   "outputs": [],
   "source": []
  }
 ],
 "metadata": {
  "kernelspec": {
   "display_name": "209as",
   "language": "python",
   "name": "python3"
  },
  "language_info": {
   "codemirror_mode": {
    "name": "ipython",
    "version": 3
   },
   "file_extension": ".py",
   "mimetype": "text/x-python",
   "name": "python",
   "nbconvert_exporter": "python",
   "pygments_lexer": "ipython3",
   "version": "3.13.5"
  }
 },
 "nbformat": 4,
 "nbformat_minor": 5
}
